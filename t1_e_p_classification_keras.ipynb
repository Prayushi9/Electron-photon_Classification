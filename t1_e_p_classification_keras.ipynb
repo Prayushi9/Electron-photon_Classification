{
  "nbformat": 4,
  "nbformat_minor": 0,
  "metadata": {
    "colab": {
      "name": "t1_e-p_classification_keras.ipynb",
      "provenance": [],
      "collapsed_sections": []
    },
    "kernelspec": {
      "name": "python3",
      "display_name": "Python 3"
    },
    "language_info": {
      "name": "python"
    },
    "accelerator": "GPU"
  },
  "cells": [
    {
      "cell_type": "code",
      "metadata": {
        "id": "TDvQSGefYUeY"
      },
      "source": [
        "import numpy as np\n",
        "import h5py"
      ],
      "execution_count": null,
      "outputs": []
    },
    {
      "cell_type": "code",
      "metadata": {
        "id": "3tL6wUrcZ9hA"
      },
      "source": [
        "hf = h5py.File('SingleElectronPt50_IMGCROPS_n249k_RHv1.hdf5', 'r')\n",
        "hf1 = h5py.File('SinglePhotonPt50_IMGCROPS_n249k_RHv1.hdf5', 'r')"
      ],
      "execution_count": null,
      "outputs": []
    },
    {
      "cell_type": "code",
      "metadata": {
        "colab": {
          "base_uri": "https://localhost:8080/"
        },
        "id": "xEQdEjZtad7-",
        "outputId": "9096e5f8-302f-4501-e2c7-2b9f7d3e4fd8"
      },
      "source": [
        "print(hf.keys())\n",
        "print(hf1.keys())"
      ],
      "execution_count": null,
      "outputs": [
        {
          "output_type": "stream",
          "text": [
            "<KeysViewHDF5 ['X', 'y']>\n",
            "<KeysViewHDF5 ['X', 'y']>\n"
          ],
          "name": "stdout"
        }
      ]
    },
    {
      "cell_type": "code",
      "metadata": {
        "colab": {
          "base_uri": "https://localhost:8080/"
        },
        "id": "xWr-puYMaj1a",
        "outputId": "5c118a68-0b11-4742-e3f9-1da6d98a12ef"
      },
      "source": [
        "#For electrons\n",
        "e_X = hf.get('X')\n",
        "print(e_X)\n",
        "e_y = hf.get('y')\n",
        "print(e_y)\n",
        "\n",
        "#for protons\n",
        "p_X = hf1.get('X')\n",
        "print(p_X)\n",
        "p_y = hf1.get('y')\n",
        "print(p_y)"
      ],
      "execution_count": null,
      "outputs": [
        {
          "output_type": "stream",
          "text": [
            "<HDF5 dataset \"X\": shape (249000, 32, 32, 2), type \"<f4\">\n",
            "<HDF5 dataset \"y\": shape (249000,), type \"<f4\">\n",
            "<HDF5 dataset \"X\": shape (249000, 32, 32, 2), type \"<f4\">\n",
            "<HDF5 dataset \"y\": shape (249000,), type \"<f4\">\n"
          ],
          "name": "stdout"
        }
      ]
    },
    {
      "cell_type": "code",
      "metadata": {
        "colab": {
          "base_uri": "https://localhost:8080/"
        },
        "id": "KV_MWsldauCZ",
        "outputId": "cdf8a02e-5043-4863-8b35-44dccd8a8b7f"
      },
      "source": [
        "e_X = np.array(e_X)\n",
        "print(e_X.shape)\n",
        "e_y = np.array(e_y)\n",
        "print(e_y.shape)\n",
        "\n",
        "p_X = np.array(p_X)\n",
        "print(p_X.shape)\n",
        "p_y = np.array(p_y)\n",
        "print(p_y.shape)"
      ],
      "execution_count": null,
      "outputs": [
        {
          "output_type": "stream",
          "text": [
            "(249000, 32, 32, 2)\n",
            "(249000,)\n",
            "(249000, 32, 32, 2)\n",
            "(249000,)\n"
          ],
          "name": "stdout"
        }
      ]
    },
    {
      "cell_type": "code",
      "metadata": {
        "id": "-7MedJgHbYks"
      },
      "source": [
        "hf.close()\n",
        "hf1.close()"
      ],
      "execution_count": null,
      "outputs": []
    },
    {
      "cell_type": "code",
      "metadata": {
        "id": "ScwLpB16bfrg"
      },
      "source": [
        "e_train = []\n",
        "p_train = []\n",
        "e_val = []\n",
        "p_val = []\n",
        "e_test = []\n",
        "p_test = []\n",
        "for i in range(0,199200):\n",
        "  e_train.append(e_X[i])\n",
        "  p_train.append(p_X[i])\n",
        "\n",
        "for j in range(199200, 224100):\n",
        "  e_val.append(e_X[j])\n",
        "  p_val.append(p_X[j])\n",
        "\n",
        "for k in range(224100, 249000):\n",
        "  e_test.append(e_X[k])\n",
        "  p_test.append(p_X[k])"
      ],
      "execution_count": null,
      "outputs": []
    },
    {
      "cell_type": "code",
      "metadata": {
        "id": "EnmJKmw3o5rL"
      },
      "source": [
        "X_train = np.concatenate([e_train, p_train])\n",
        "X_val = np.concatenate([e_val, p_val])\n",
        "X_test = np.concatenate([e_test, p_test])"
      ],
      "execution_count": null,
      "outputs": []
    },
    {
      "cell_type": "code",
      "metadata": {
        "colab": {
          "base_uri": "https://localhost:8080/"
        },
        "id": "cUHJdo0zl-Ak",
        "outputId": "02db8325-3416-44cd-d343-15e5ca5fd99f"
      },
      "source": [
        "print((np.asarray(e_train)).shape)\n",
        "print((np.asarray(p_train)).shape)\n",
        "print((np.asarray(e_val)).shape)\n",
        "print((np.asarray(p_val)).shape)\n",
        "print((np.asarray(e_test)).shape)\n",
        "print((np.asarray(p_test)).shape)\n",
        "\n",
        "print((np.asarray(X_train)).shape)\n",
        "print((np.asarray(X_val)).shape)\n",
        "print((np.asarray(X_test)).shape)"
      ],
      "execution_count": null,
      "outputs": [
        {
          "output_type": "stream",
          "text": [
            "(199200, 32, 32, 2)\n",
            "(199200, 32, 32, 2)\n",
            "(24900, 32, 32, 2)\n",
            "(24900, 32, 32, 2)\n",
            "(24900, 32, 32, 2)\n",
            "(24900, 32, 32, 2)\n",
            "(398400, 32, 32, 2)\n",
            "(49800, 32, 32, 2)\n",
            "(49800, 32, 32, 2)\n"
          ],
          "name": "stdout"
        }
      ]
    },
    {
      "cell_type": "code",
      "metadata": {
        "id": "7WdFZkTIoKqg"
      },
      "source": [
        "ey_train = []\n",
        "py_train = []\n",
        "ey_val = []\n",
        "py_val = []\n",
        "ey_test = []\n",
        "py_test = []\n",
        "for i in range(0,199200):\n",
        "  ey_train.append(e_y[i])\n",
        "  py_train.append(p_y[i])\n",
        "\n",
        "for j in range(199200, 224100):\n",
        "  ey_val.append(e_y[j])\n",
        "  py_val.append(p_y[j])\n",
        "\n",
        "for k in range(224100, 249000):\n",
        "  ey_test.append(e_y[k])\n",
        "  py_test.append(p_y[k])"
      ],
      "execution_count": null,
      "outputs": []
    },
    {
      "cell_type": "code",
      "metadata": {
        "id": "8HPqzv30q5em"
      },
      "source": [
        "Y_train = np.concatenate([ey_train, py_train])\n",
        "Y_val = np.concatenate([ey_val, py_val])\n",
        "Y_test = np.concatenate([ey_test, py_test])"
      ],
      "execution_count": null,
      "outputs": []
    },
    {
      "cell_type": "code",
      "metadata": {
        "colab": {
          "base_uri": "https://localhost:8080/"
        },
        "id": "9by7OgyUrVle",
        "outputId": "bf26693c-0aba-435f-c9ad-564f64a4d98b"
      },
      "source": [
        "print((np.asarray(ey_train)).shape)\n",
        "print((np.asarray(py_train)).shape)\n",
        "print((np.asarray(ey_val)).shape)\n",
        "print((np.asarray(py_val)).shape)\n",
        "print((np.asarray(ey_test)).shape)\n",
        "print((np.asarray(py_test)).shape)\n",
        "\n",
        "print((np.asarray(Y_train)).shape)\n",
        "print((np.asarray(Y_val)).shape)\n",
        "print((np.asarray(Y_test)).shape)"
      ],
      "execution_count": null,
      "outputs": [
        {
          "output_type": "stream",
          "text": [
            "(199200,)\n",
            "(199200,)\n",
            "(24900,)\n",
            "(24900,)\n",
            "(24900,)\n",
            "(24900,)\n",
            "(398400,)\n",
            "(49800,)\n",
            "(49800,)\n"
          ],
          "name": "stdout"
        }
      ]
    },
    {
      "cell_type": "code",
      "metadata": {
        "id": "Z2usy9wodIHB"
      },
      "source": [
        "import keras\n",
        "from keras import backend as K\n",
        "from keras.applications import InceptionV3\n",
        "from keras.layers import Input, Dense, Reshape, Flatten, Dropout, MaxPooling2D, GlobalMaxPooling2D, BatchNormalization\n",
        "import tensorflow as tf\n",
        "from keras import layers\n",
        "from keras.models import Sequential, Model\n",
        "from keras.optimizers import RMSprop, SGD"
      ],
      "execution_count": null,
      "outputs": []
    },
    {
      "cell_type": "code",
      "metadata": {
        "colab": {
          "base_uri": "https://localhost:8080/"
        },
        "id": "GLKuKgYVxKmS",
        "outputId": "7fed14a6-785d-49a9-fe2e-1c73537190a0"
      },
      "source": [
        "ip=Input(shape=(32, 32, 2))\n",
        "  \n",
        "x = layers.Conv2D(256, (3, 3), activation='relu', padding='same', name='block5d_conv4')(ip)\n",
        "x=BatchNormalization(momentum=0.8)(x)\n",
        "       \n",
        "x = layers.Conv2D(256, (3, 3), activation='relu', padding='same', name='block3d_conv4')(x)\n",
        "x=BatchNormalization(momentum=0.8)(x)\n",
        "x=Dropout(.3)(x)  \n",
        "        \n",
        "x = layers.Conv2D(128, (3, 3), activation='relu', padding='same', name='block2d_conv2')(x)\n",
        "x=BatchNormalization(momentum=0.8)(x)\n",
        "        \n",
        "x = layers.Conv2D(64, (3, 3), activation='relu', padding='same', name='block1d_conv2')(x)\n",
        "x=BatchNormalization(momentum=0.8)(x)\n",
        "x=Dropout(.5)(x)  \n",
        "\n",
        "x=layers.Conv2D(3, (3, 3), activation='relu', padding='same')(x)\n",
        "x=layers.Flatten()(x)\n",
        "out=layers.Dense(1, activation=\"sigmoid\")(x)\n",
        "model=Model(ip,out)\n",
        "\n",
        "print(model.summary())"
      ],
      "execution_count": null,
      "outputs": [
        {
          "output_type": "stream",
          "text": [
            "Model: \"model\"\n",
            "_________________________________________________________________\n",
            "Layer (type)                 Output Shape              Param #   \n",
            "=================================================================\n",
            "input_1 (InputLayer)         [(None, 32, 32, 2)]       0         \n",
            "_________________________________________________________________\n",
            "block5d_conv4 (Conv2D)       (None, 32, 32, 256)       4864      \n",
            "_________________________________________________________________\n",
            "batch_normalization (BatchNo (None, 32, 32, 256)       1024      \n",
            "_________________________________________________________________\n",
            "block3d_conv4 (Conv2D)       (None, 32, 32, 256)       590080    \n",
            "_________________________________________________________________\n",
            "batch_normalization_1 (Batch (None, 32, 32, 256)       1024      \n",
            "_________________________________________________________________\n",
            "dropout (Dropout)            (None, 32, 32, 256)       0         \n",
            "_________________________________________________________________\n",
            "block2d_conv2 (Conv2D)       (None, 32, 32, 128)       295040    \n",
            "_________________________________________________________________\n",
            "batch_normalization_2 (Batch (None, 32, 32, 128)       512       \n",
            "_________________________________________________________________\n",
            "block1d_conv2 (Conv2D)       (None, 32, 32, 64)        73792     \n",
            "_________________________________________________________________\n",
            "batch_normalization_3 (Batch (None, 32, 32, 64)        256       \n",
            "_________________________________________________________________\n",
            "dropout_1 (Dropout)          (None, 32, 32, 64)        0         \n",
            "_________________________________________________________________\n",
            "conv2d (Conv2D)              (None, 32, 32, 3)         1731      \n",
            "_________________________________________________________________\n",
            "flatten (Flatten)            (None, 3072)              0         \n",
            "_________________________________________________________________\n",
            "dense (Dense)                (None, 1)                 3073      \n",
            "=================================================================\n",
            "Total params: 971,396\n",
            "Trainable params: 969,988\n",
            "Non-trainable params: 1,408\n",
            "_________________________________________________________________\n",
            "None\n"
          ],
          "name": "stdout"
        }
      ]
    },
    {
      "cell_type": "code",
      "metadata": {
        "id": "wRn3E5og07Hs"
      },
      "source": [
        "opt=RMSprop(lr=0.0001)\n",
        "model.compile(optimizer=opt,loss='binary_crossentropy',metrics=['accuracy'])"
      ],
      "execution_count": null,
      "outputs": []
    },
    {
      "cell_type": "code",
      "metadata": {
        "colab": {
          "base_uri": "https://localhost:8080/"
        },
        "id": "nWgtjLfw1JuI",
        "outputId": "27a32337-e60f-402f-aa0e-fa9a8051ba9a"
      },
      "source": [
        "model.load_weights(\"t1_20.h5\")\n",
        "model.fit(X_train, Y_train, validation_data=(X_val, Y_val), batch_size=32,epochs=10,verbose=1)"
      ],
      "execution_count": null,
      "outputs": [
        {
          "output_type": "stream",
          "text": [
            "Epoch 1/10\n",
            "12450/12450 [==============================] - 834s 67ms/step - loss: 0.5614 - accuracy: 0.7205 - val_loss: 0.5659 - val_accuracy: 0.7164\n",
            "Epoch 2/10\n",
            "12450/12450 [==============================] - 832s 67ms/step - loss: 0.5606 - accuracy: 0.7217 - val_loss: 0.5638 - val_accuracy: 0.7184\n",
            "Epoch 3/10\n",
            "12450/12450 [==============================] - 831s 67ms/step - loss: 0.5598 - accuracy: 0.7221 - val_loss: 0.5605 - val_accuracy: 0.7184\n",
            "Epoch 4/10\n",
            "12450/12450 [==============================] - 832s 67ms/step - loss: 0.5593 - accuracy: 0.7224 - val_loss: 0.5600 - val_accuracy: 0.7171\n",
            "Epoch 5/10\n",
            "12450/12450 [==============================] - 829s 67ms/step - loss: 0.5587 - accuracy: 0.7233 - val_loss: 0.5596 - val_accuracy: 0.7172\n",
            "Epoch 6/10\n",
            "12450/12450 [==============================] - 823s 66ms/step - loss: 0.5581 - accuracy: 0.7236 - val_loss: 0.5571 - val_accuracy: 0.7214\n",
            "Epoch 7/10\n",
            "12450/12450 [==============================] - 828s 66ms/step - loss: 0.5576 - accuracy: 0.7241 - val_loss: 0.5589 - val_accuracy: 0.7200\n",
            "Epoch 8/10\n",
            "12450/12450 [==============================] - 828s 67ms/step - loss: 0.5563 - accuracy: 0.7255 - val_loss: 0.5579 - val_accuracy: 0.7213\n",
            "Epoch 9/10\n",
            "12450/12450 [==============================] - 830s 67ms/step - loss: 0.5561 - accuracy: 0.7253 - val_loss: 0.5591 - val_accuracy: 0.7215\n",
            "Epoch 10/10\n",
            "12450/12450 [==============================] - 830s 67ms/step - loss: 0.5554 - accuracy: 0.7256 - val_loss: 0.5572 - val_accuracy: 0.7209\n"
          ],
          "name": "stdout"
        },
        {
          "output_type": "execute_result",
          "data": {
            "text/plain": [
              "<tensorflow.python.keras.callbacks.History at 0x7fdc7f765b10>"
            ]
          },
          "metadata": {
            "tags": []
          },
          "execution_count": 20
        }
      ]
    },
    {
      "cell_type": "code",
      "metadata": {
        "id": "MWbI_LfTO7EB"
      },
      "source": [
        "model.save_weights(\"t1_30.h5\")"
      ],
      "execution_count": null,
      "outputs": []
    },
    {
      "cell_type": "code",
      "metadata": {
        "colab": {
          "base_uri": "https://localhost:8080/"
        },
        "id": "dCHhMiFoo09W",
        "outputId": "aac6adf5-a879-431e-c6dd-2279f6582645"
      },
      "source": [
        "model.load_weights(\"t1_30.h5\")\n",
        "model.fit(X_train, Y_train, validation_data=(X_val, Y_val), batch_size=32,epochs=20,verbose=1)"
      ],
      "execution_count": null,
      "outputs": [
        {
          "output_type": "stream",
          "text": [
            "Epoch 1/20\n",
            "12450/12450 [==============================] - 889s 69ms/step - loss: 0.5552 - accuracy: 0.7262 - val_loss: 0.5603 - val_accuracy: 0.7199\n",
            "Epoch 2/20\n",
            "12450/12450 [==============================] - 852s 68ms/step - loss: 0.5534 - accuracy: 0.7275 - val_loss: 0.5564 - val_accuracy: 0.7252\n",
            "Epoch 3/20\n",
            "12450/12450 [==============================] - 843s 68ms/step - loss: 0.5542 - accuracy: 0.7263 - val_loss: 0.5576 - val_accuracy: 0.7210\n",
            "Epoch 4/20\n",
            "12450/12450 [==============================] - 839s 67ms/step - loss: 0.5532 - accuracy: 0.7281 - val_loss: 0.5589 - val_accuracy: 0.7203\n",
            "Epoch 5/20\n",
            "12450/12450 [==============================] - 841s 68ms/step - loss: 0.5509 - accuracy: 0.7285 - val_loss: 0.5565 - val_accuracy: 0.7256\n",
            "Epoch 6/20\n",
            "12450/12450 [==============================] - 841s 68ms/step - loss: 0.5517 - accuracy: 0.7289 - val_loss: 0.5567 - val_accuracy: 0.7242\n",
            "Epoch 7/20\n",
            "12450/12450 [==============================] - 841s 68ms/step - loss: 0.5517 - accuracy: 0.7278 - val_loss: 0.5696 - val_accuracy: 0.7226\n",
            "Epoch 8/20\n",
            "12450/12450 [==============================] - 841s 68ms/step - loss: 0.5506 - accuracy: 0.7302 - val_loss: 0.5550 - val_accuracy: 0.7248\n",
            "Epoch 9/20\n",
            "12450/12450 [==============================] - 840s 67ms/step - loss: 0.5508 - accuracy: 0.7292 - val_loss: 0.5570 - val_accuracy: 0.7242\n",
            "Epoch 10/20\n",
            "12450/12450 [==============================] - 841s 68ms/step - loss: 0.5493 - accuracy: 0.7299 - val_loss: 0.5541 - val_accuracy: 0.7250\n",
            "Epoch 11/20\n",
            "12450/12450 [==============================] - 840s 68ms/step - loss: 0.5510 - accuracy: 0.7291 - val_loss: 0.5573 - val_accuracy: 0.7220\n",
            "Epoch 12/20\n",
            "12450/12450 [==============================] - 840s 67ms/step - loss: 0.5499 - accuracy: 0.7315 - val_loss: 0.5592 - val_accuracy: 0.7241\n",
            "Epoch 13/20\n",
            "12450/12450 [==============================] - 838s 67ms/step - loss: 0.5486 - accuracy: 0.7306 - val_loss: 0.5548 - val_accuracy: 0.7252\n",
            "Epoch 14/20\n",
            "12450/12450 [==============================] - 839s 67ms/step - loss: 0.5481 - accuracy: 0.7313 - val_loss: 0.5561 - val_accuracy: 0.7230\n",
            "Epoch 15/20\n",
            "12450/12450 [==============================] - 837s 67ms/step - loss: 0.5464 - accuracy: 0.7323 - val_loss: 0.5577 - val_accuracy: 0.7221\n",
            "Epoch 16/20\n",
            "12450/12450 [==============================] - 837s 67ms/step - loss: 0.5473 - accuracy: 0.7324 - val_loss: 0.5573 - val_accuracy: 0.7233\n",
            "Epoch 17/20\n",
            "12450/12450 [==============================] - 838s 67ms/step - loss: 0.5468 - accuracy: 0.7324 - val_loss: 0.5535 - val_accuracy: 0.7258\n",
            "Epoch 18/20\n",
            "12450/12450 [==============================] - 839s 67ms/step - loss: 0.5458 - accuracy: 0.7328 - val_loss: 0.5615 - val_accuracy: 0.7237\n",
            "Epoch 19/20\n",
            "12450/12450 [==============================] - 839s 67ms/step - loss: 0.5463 - accuracy: 0.7317 - val_loss: 0.5579 - val_accuracy: 0.7219\n",
            "Epoch 20/20\n",
            "12450/12450 [==============================] - 837s 67ms/step - loss: 0.5436 - accuracy: 0.7344 - val_loss: 0.5589 - val_accuracy: 0.7235\n"
          ],
          "name": "stdout"
        },
        {
          "output_type": "execute_result",
          "data": {
            "text/plain": [
              "<tensorflow.python.keras.callbacks.History at 0x7f0a90671190>"
            ]
          },
          "metadata": {
            "tags": []
          },
          "execution_count": 19
        }
      ]
    },
    {
      "cell_type": "code",
      "metadata": {
        "id": "aUgJIGA-2w9H"
      },
      "source": [
        "model.save_weights(\"t1_50.h5\")"
      ],
      "execution_count": null,
      "outputs": []
    }
  ]
}